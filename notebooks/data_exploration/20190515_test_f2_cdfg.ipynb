{
 "cells": [
  {
   "cell_type": "code",
   "execution_count": null,
   "metadata": {},
   "outputs": [],
   "source": [
    "import pandas as pd\n",
    "import numpy as np\n",
    "import matplotlib.pyplot as plt"
   ]
  },
  {
   "cell_type": "code",
   "execution_count": null,
   "metadata": {},
   "outputs": [],
   "source": [
    "ancestor_0m = pd.read_csv('input/Ancestor_mutations.csv')\n",
    "ancestor_0e = pd.read_csv('input/Ancestor_evidence.csv')\n",
    "ua3_100m = pd.read_csv('input/UA3-100_mutations.csv')\n",
    "ua3_100e = pd.read_csv('input/UA3-100_evidence.csv')\n",
    "ua3_300m = pd.read_csv('input/UA3-300_mutations.csv')\n",
    "ua3_300e = pd.read_csv('input/UA3-300_evidence.csv')\n",
    "ua3_500m = pd.read_csv('input/UA3-500_mutations.csv')\n",
    "ua3_500e = pd.read_csv('input/UA3-500_evidence.csv')\n",
    "ua3_780m = pd.read_csv('input/UA3-780_mutations.csv')\n",
    "ua3_780e = pd.read_csv('input/UA3-780_evidence.csv')\n",
    "ua3_1000m = pd.read_csv('input/UA3-1000_mutations.csv')\n",
    "ua3_1000e = pd.read_csv('input/UA3-1000_evidence.csv')"
   ]
  },
  {
   "cell_type": "code",
   "execution_count": null,
   "metadata": {},
   "outputs": [],
   "source": [
    "ua3_mutations = pd.concat([ancestor_0m, ua3_100m, ua3_300m, ua3_500m, ua3_780m, ua3_1000m], ignore_index=True)\n",
    "ua3_evidence = pd.concat([ancestor_0e, ua3_100e, ua3_300e, ua3_500e, ua3_780e, ua3_1000e], ignore_index=True)"
   ]
  },
  {
   "cell_type": "code",
   "execution_count": null,
   "metadata": {
    "scrolled": true
   },
   "outputs": [],
   "source": [
    "ua3_mutations.to_csv('output/ua3_mutations.csv', index=False)"
   ]
  },
  {
   "cell_type": "code",
   "execution_count": null,
   "metadata": {
    "scrolled": true
   },
   "outputs": [],
   "source": [
    "ua3_evidence.to_csv('output/ua3_evidence.csv', index=False)"
   ]
  },
  {
   "cell_type": "code",
   "execution_count": null,
   "metadata": {
    "scrolled": false
   },
   "outputs": [],
   "source": [
    "#Example of mutation that was rejected in an earlier generation due to frequency threshold\n",
    "ua3_mutations[ua3_mutations['position'] == 221]"
   ]
  },
  {
   "cell_type": "code",
   "execution_count": null,
   "metadata": {
    "scrolled": true
   },
   "outputs": [],
   "source": [
    "ua3_evidence[ua3_evidence['position'] == 221]"
   ]
  },
  {
   "cell_type": "code",
   "execution_count": null,
   "metadata": {},
   "outputs": [],
   "source": [
    "#Example of mutation with JC (new junction) evidence that will not be detected based on position only.\n",
    "ua3_mutations[ua3_mutations['position'] == 183266]"
   ]
  },
  {
   "cell_type": "code",
   "execution_count": null,
   "metadata": {},
   "outputs": [],
   "source": [
    "ua3_evidence[ua3_evidence['position'] == 183265]"
   ]
  }
 ],
 "metadata": {
  "kernelspec": {
   "display_name": "Python [conda env:anaconda]",
   "language": "python",
   "name": "conda-env-anaconda-py"
  },
  "language_info": {
   "codemirror_mode": {
    "name": "ipython",
    "version": 3
   },
   "file_extension": ".py",
   "mimetype": "text/x-python",
   "name": "python",
   "nbconvert_exporter": "python",
   "pygments_lexer": "ipython3",
   "version": "3.6.5"
  }
 },
 "nbformat": 4,
 "nbformat_minor": 2
}
